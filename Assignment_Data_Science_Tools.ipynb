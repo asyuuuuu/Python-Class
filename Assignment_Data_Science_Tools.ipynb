{
  "nbformat": 4,
  "nbformat_minor": 0,
  "metadata": {
    "colab": {
      "provenance": [],
      "authorship_tag": "ABX9TyPmQRF6pEQjkoAhGpCtnQrv",
      "include_colab_link": true
    },
    "kernelspec": {
      "name": "python3",
      "display_name": "Python 3"
    },
    "language_info": {
      "name": "python"
    }
  },
  "cells": [
    {
      "cell_type": "markdown",
      "metadata": {
        "id": "view-in-github",
        "colab_type": "text"
      },
      "source": [
        "<a href=\"https://colab.research.google.com/github/asyuuuuu/Python-Class/blob/main/Assignment_Data_Science_Tools.ipynb\" target=\"_parent\"><img src=\"https://colab.research.google.com/assets/colab-badge.svg\" alt=\"Open In Colab\"/></a>"
      ]
    },
    {
      "cell_type": "markdown",
      "source": [
        "#Assignment Data Science Tools"
      ],
      "metadata": {
        "id": "bGTRXYiK_rf6"
      }
    },
    {
      "cell_type": "markdown",
      "source": [
        "##**Anis Syuhada**\n",
        "Data Analyst\n"
      ],
      "metadata": {
        "id": "pJeSt0Y0_5sB"
      }
    },
    {
      "cell_type": "markdown",
      "source": [
        "*i am interested in data science because i like to be a detective for information. I like to use clues data to uncover insights *"
      ],
      "metadata": {
        "id": "kpYzOR8gAfYX"
      }
    },
    {
      "cell_type": "code",
      "source": [],
      "metadata": {
        "id": "dFE3vN0uB5VY"
      },
      "execution_count": null,
      "outputs": []
    },
    {
      "cell_type": "markdown",
      "source": [
        "###2x3 = 6"
      ],
      "metadata": {
        "id": "7boM0l1K4ZYQ"
      }
    },
    {
      "cell_type": "code",
      "source": [
        "a=2\n",
        "b=3\n",
        "c=a*b\n",
        "print(c)"
      ],
      "metadata": {
        "colab": {
          "base_uri": "https://localhost:8080/"
        },
        "id": "n5RiC3M34GZo",
        "outputId": "9838f286-248e-4ae5-e04c-d080f33ed9a0"
      },
      "execution_count": null,
      "outputs": [
        {
          "output_type": "stream",
          "name": "stdout",
          "text": [
            "6\n"
          ]
        }
      ]
    },
    {
      "cell_type": "code",
      "source": [],
      "metadata": {
        "id": "WuFB4SMn4Ray"
      },
      "execution_count": null,
      "outputs": []
    },
    {
      "cell_type": "markdown",
      "source": [
        "I am:\n",
        "* dedicated\n",
        "* detail oriented\n",
        "* passionate\n",
        "\n",
        "[Visit my LinkedIn profile](https://www.linkedin.com/in/anis-syuhada-azeman/)\n",
        "\n",
        "My core values:\n",
        "\n",
        "1.   Trust\n",
        "2.   Honest\n",
        "3.   Respect\n",
        "\n",
        "\n"
      ],
      "metadata": {
        "id": "EbXG241E5cml"
      }
    },
    {
      "cell_type": "code",
      "source": [
        "import pandas as pd\n",
        "df = pd.read_csv(\"custcat.csv\")\n",
        "\n",
        "print(df.head(16))"
      ],
      "metadata": {
        "colab": {
          "base_uri": "https://localhost:8080/"
        },
        "id": "3ztzX5P46K_Y",
        "outputId": "c4ec2e17-40ce-46ff-e7ef-2e526dfe5387"
      },
      "execution_count": null,
      "outputs": [
        {
          "output_type": "stream",
          "name": "stdout",
          "text": [
            "    region  tenure  age  marital  address  income  ed  employ  retire  gender  \\\n",
            "0        2      13   44        1        9    64.0   4       5     0.0       0   \n",
            "1        3      11   33        1        7   136.0   5       5     0.0       0   \n",
            "2        3      68   52        1       24   116.0   1      29     0.0       1   \n",
            "3        2      33   33        0       12    33.0   2       0     0.0       1   \n",
            "4        2      23   30        1        9    30.0   1       2     0.0       0   \n",
            "5        2      41   39        0       17    78.0   2      16     0.0       1   \n",
            "6        3      45   22        1        2    19.0   2       4     0.0       1   \n",
            "7        2      38   35        0        5    76.0   2      10     0.0       0   \n",
            "8        3      45   59        1        7   166.0   4      31     0.0       0   \n",
            "9        1      68   41        1       21    72.0   1      22     0.0       0   \n",
            "10       2       5   33        0       10   125.0   4       5     0.0       1   \n",
            "11       3       7   35        0       14    80.0   2      15     0.0       1   \n",
            "12       1      41   38        1        8    37.0   2       9     0.0       1   \n",
            "13       2      57   54        1       30   115.0   4      23     0.0       1   \n",
            "14       2       9   46        0        3    25.0   1       8     0.0       1   \n",
            "15       1      29   38        1       12    75.0   5       1     0.0       0   \n",
            "\n",
            "    reside  custcat  \n",
            "0        2        1  \n",
            "1        6        4  \n",
            "2        2        3  \n",
            "3        1        1  \n",
            "4        4        3  \n",
            "5        1        3  \n",
            "6        5        2  \n",
            "7        3        4  \n",
            "8        5        3  \n",
            "9        3        2  \n",
            "10       1        1  \n",
            "11       1        3  \n",
            "12       3        1  \n",
            "13       3        4  \n",
            "14       2        1  \n",
            "15       4        2  \n"
          ]
        }
      ]
    },
    {
      "cell_type": "code",
      "source": [],
      "metadata": {
        "id": "Mo9W10Gq7mvd"
      },
      "execution_count": null,
      "outputs": []
    }
  ]
}